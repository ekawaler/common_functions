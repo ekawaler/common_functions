{
 "cells": [
  {
   "cell_type": "markdown",
   "metadata": {},
   "source": [
    "# Make outliers table"
   ]
  },
  {
   "cell_type": "code",
   "execution_count": null,
   "metadata": {},
   "outputs": [],
   "source": [
    "%%bash\n",
    "location_of_py_file=\"../../../common_functions/adjusted_outliers.py\"\n",
    "location_of_outliers_file=\"../data/UCEC_phosphoproteomics_pass_only.cct\"\n",
    "iqrs_over_median=1.5\n",
    "gene_column_name=\"geneSymbol\"\n",
    "output_file=\"test.txt\"\n",
    "sample_names_file=\"../samples_endo.txt\"\n",
    "\n",
    "python2.7 ${location_of_py_file} \\\n",
    "--input_df ${location_of_outliers_file} \\\n",
    "--iqrs_over_median ${iqrs_over_median} \\\n",
    "--gene_column_name ${gene_column_name} \\\n",
    "--output_file ${output_file} \\\n",
    "--sample_names_file ${sample_names_file}\n"
   ]
  },
  {
   "cell_type": "markdown",
   "metadata": {},
   "source": [
    "# Do a comparison on 2 groups"
   ]
  },
  {
   "cell_type": "markdown",
   "metadata": {},
   "source": [
    "#### example_comparisons.txt\n",
    "\n",
    "LabelA    group1name    group2name  \n",
    "LabelB    group1name    group2name  \n",
    "LabelC    group1name    group2name    \n"
   ]
  },
  {
   "cell_type": "code",
   "execution_count": null,
   "metadata": {},
   "outputs": [],
   "source": [
    "%%bash\n",
    "\n",
    "location_of_py_file=\"../../../common_functions/outlier_comparison_generator.py\"\n",
    "location_of_outliers_file=\"../outliers/UCEC_phospho_outliers_up.txt\"\n",
    "gene_column_name=\"geneSymbol\"\n",
    "fdr_cut_off=0.05\n",
    "genes_to_highlight=\"../../annotations/druggable_list.txt\"\n",
    "\n",
    "cat comparisons.txt | while read -r -a myArray\n",
    "do\n",
    "label=\"${myArray[0]}\"\n",
    "group1=\"${myArray[1]}\"\n",
    "group2=\"${myArray[2]}\"\n",
    "python2.7  ${location_of_py_file} \\\n",
    "--outliers_table  ${location_of_outliers_file} \\\n",
    "--gene_column_name ${gene_column_name} \\\n",
    "--fdr_cut_off ${fdr_cut_off} \\\n",
    "--output_prefix ${label}_${group1} \\\n",
    "--group1_label ${group1} \\\n",
    "--group1_list ${label}_${group1}_samples.txt \\\n",
    "--group2_label ${group2} \\\n",
    "--group2_list ${label}_${group2}_samples.txt \\\n",
    "--genes_to_highlight ${genes_to_highlight}\n"
   ]
  }
 ],
 "metadata": {
  "kernelspec": {
   "display_name": "Python 2",
   "language": "python",
   "name": "python2"
  },
  "language_info": {
   "codemirror_mode": {
    "name": "ipython",
    "version": 2
   },
   "file_extension": ".py",
   "mimetype": "text/x-python",
   "name": "python",
   "nbconvert_exporter": "python",
   "pygments_lexer": "ipython2",
   "version": "2.7.15"
  }
 },
 "nbformat": 4,
 "nbformat_minor": 2
}
