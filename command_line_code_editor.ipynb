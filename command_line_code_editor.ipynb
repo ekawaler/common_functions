{
 "cells": [
  {
   "cell_type": "code",
   "execution_count": 1,
   "metadata": {},
   "outputs": [],
   "source": [
    "from __future__ import division\n",
    "import pandas as pd, numpy as np, matplotlib.pyplot as plt, seaborn as sns\n",
    "import matplotlib.patches as mpatches\n",
    "import scipy.stats\n",
    "import sys\n",
    "import argparse\n",
    "from datetime import datetime"
   ]
  },
  {
   "cell_type": "code",
   "execution_count": 2,
   "metadata": {},
   "outputs": [],
   "source": [
    "sys.path.insert(0, \"/Users/lili/Google Drive/Ruggles_lab/common_functions\")\n",
    "import commonFns\n",
    "\n",
    "sns.set(font = 'arial', style = 'white', color_codes=True, font_scale = 1)\n",
    "cmap = sns.cubehelix_palette(start=0.857, rot=0.00, gamma=1.5, hue=1, light=1, dark=0.2, reverse=False, as_cmap=True)\n",
    "cmap.set_bad('#F5F5F5')"
   ]
  },
  {
   "cell_type": "code",
   "execution_count": 3,
   "metadata": {},
   "outputs": [],
   "source": [
    "def makeHeatMap(heatmap_table, group_color_map, sample_color_map, output_prefix):\n",
    "    group = heatmap_table.columns\n",
    "    column_colors = group.map(sample_color_map)\n",
    "\n",
    "    g = sns.clustermap(heatmap_table,\n",
    "                           cmap=cmap,\n",
    "                           col_cluster = False,\n",
    "                           # row_cluster = False,\n",
    "                           col_colors = column_colors,\n",
    "                           xticklabels=False,\n",
    "#                            yticklabels=False,\n",
    "                        # standard_scale=0,\n",
    "                        vmin=0,\n",
    "#                         vmax=np.percentile(heatmap_table.values, 99.9),\n",
    "                        vmax=30,\n",
    "                           cbar_kws={'label':'# outliers'},\n",
    "                          )\n",
    "    g.ax_row_dendrogram.set_visible(False)\n",
    "    plt.setp(g.ax_heatmap.yaxis.get_majorticklabels(), rotation=0)\n",
    "    \n",
    "    g.cax.set_position((0.15,0.12,0.03,0.6)) #move colorbar to right\n",
    "    ax = g.ax_heatmap\n",
    "    ax.set_ylabel('') #change the gene label\n",
    "    \n",
    "#     this chunk makes the legend the describes the different sample groups\n",
    "    handles = [mpatches.Patch(color=color, label=group) for group, color in group_color_map.iteritems()]\n",
    "\n",
    "    fig = plt.gcf()\n",
    "    fig.legend(handles=handles, bbox_to_anchor=(0.6, 0.10))\n",
    "    \n",
    "    #save the plot\n",
    "    plt.savefig('%s.pdf' %output_prefix, dpi=500, bbox_inches='tight', pad_inches=0.5)\n",
    "    plt.show()\n",
    "    plt.close()\n",
    "\n",
    "    "
   ]
  },
  {
   "cell_type": "code",
   "execution_count": 4,
   "metadata": {},
   "outputs": [],
   "source": [
    "folder = '/Users/lili/Google Drive/Ruggles_lab/cptac/endometrial/'"
   ]
  },
  {
   "cell_type": "code",
   "execution_count": 11,
   "metadata": {},
   "outputs": [
    {
     "name": "stdout",
     "output_type": "stream",
     "text": [
      "0 signficantly differential proteins\n"
     ]
    }
   ],
   "source": [
    "outliers_table = \"outliers/UCEC_filtered_RNA_outliers.txt\"\n",
    "experiment_type = \"not_phospho\"\n",
    "protein_column_name = \"idx\"\n",
    "count_column_name = \"counts\"\n",
    "fdr_cut_off = 0.05\n",
    "output_prefix = \"test_RNA_filter\"\n",
    "group1_label = \"in_Toll_like_Receptor_Signaling\"\n",
    "group1_list = \"LINCS/samples_in_Toll_like_Receptor_Signaling.txt\"\n",
    "group2_label = \"out_Toll_like_Receptor_Signaling\"\n",
    "group2_list = \"LINCS/differential_outliers_lincs_groups/samples_out_Toll_like_Receptor_Signaling.txt\"\n",
    "\n",
    "outliers = pd.read_csv(folder+outliers_table, sep='\\t')\n",
    "\n",
    "if experiment_type == 'not_phospho':\n",
    "    outliers[count_column_name] = 1\n",
    "\n",
    "group1 = commonFns.fileToList(folder + group1_list)\n",
    "group2 = commonFns.fileToList(folder + group2_list)\n",
    "\n",
    "\n",
    "# Assigning colors to samples\n",
    "# if args.group_colors is not None:\n",
    "#     group_color_map = commonFns.fileToDict(group_colors)\n",
    "\n",
    "#     groups_dict = {sample:group1_label for sample in group1}\n",
    "#     groups_dict2 = {sample:group2_label for sample in group2}\n",
    "#     groups_dict.update(groups_dict2)\n",
    "\n",
    "#     sample_color_map = {sample:group_color_map[groups_dict[sample]] for sample in group1+group2}\n",
    "\n",
    "# else:\n",
    "sample_color_map = {sample:'#571D41' for sample in group1}\n",
    "sample_color_map.update({sample:'#F5F5F5' for sample in group2})\n",
    "\n",
    "group_color_map = {group1_label:'#571D41', group2_label:'#F5F5F5'}\n",
    "\n",
    "\n",
    "# Doing statistical test on different groups\n",
    "outliers['FDR'] = commonFns.testDifferentGroupsOutliers(group1,\n",
    "                                                        group2,\n",
    "                                                        outliers,\n",
    "                                                        psite_count_column=count_column_name,\n",
    "                                                        phospho=(experiment_type=='phospho'))\n",
    "\n",
    "outliers['significant'] = (outliers['FDR'] <= fdr_cut_off)\n",
    "sig_diff_count = sum(outliers['significant'])\n",
    "print('%s signficantly differential proteins' % sig_diff_count)\n",
    "\n",
    "#If enough genes, make heatmap\n",
    "if sig_diff_count >= 2:\n",
    "    heatmap_table = outliers.loc[(outliers['significant'] == True), [protein_column_name] + group1 + group2]\n",
    "    heatmap_table = heatmap_table.set_index(protein_column_name)\n",
    "\n",
    "    makeHeatMap(heatmap_table, group_color_map, sample_color_map, output_prefix)\n",
    "\n",
    "#Write significantly different genes to a file\n",
    "up_in_group1 = outliers.loc[((outliers['significant']==True) & (outliers[group1].sum(axis=1) > outliers[group2].sum(axis=1))), protein_column_name]\n",
    "with open('%s.up_in_%s.txt' %(output_prefix, group1_label), 'w') as fh:\n",
    "    for gene in up_in_group1:\n",
    "        fh.write('%s\\n'%gene)\n",
    "\n",
    "up_in_group2 = outliers.loc[((outliers['significant']==True) & (outliers[group1].sum(axis=1) < outliers[group2].sum(axis=1))), protein_column_name]\n",
    "with open('%s.up_in_%s.txt' %(output_prefix, group2_label), 'w') as fh:\n",
    "    for gene in up_in_group2:\n",
    "        fh.write('%s\\n'%gene)"
   ]
  },
  {
   "cell_type": "code",
   "execution_count": 5,
   "metadata": {},
   "outputs": [],
   "source": [
    "outliers_table = \"outliers/UCEC_filtered_RNA_outliers.txt\"\n",
    "\n",
    "outliers = pd.read_csv(folder+outliers_table, sep='\\t')"
   ]
  },
  {
   "cell_type": "code",
   "execution_count": 8,
   "metadata": {},
   "outputs": [
    {
     "data": {
      "text/plain": [
       "16934"
      ]
     },
     "execution_count": 8,
     "metadata": {},
     "output_type": "execute_result"
    }
   ],
   "source": [
    "# outliers['row_iqr'] = \n",
    "# scipy.stats.iqr(outliers[list(outliers)[1:]], axis=1, nan_policy='omit')\n",
    "# outliers['row_median'] = \n",
    "len(np.nanquantile(outliers[list(outliers)[1:]], q=0.5, axis=1))"
   ]
  },
  {
   "cell_type": "code",
   "execution_count": 9,
   "metadata": {},
   "outputs": [
    {
     "data": {
      "text/plain": [
       "16934"
      ]
     },
     "execution_count": 9,
     "metadata": {},
     "output_type": "execute_result"
    }
   ],
   "source": [
    "len(outliers)"
   ]
  },
  {
   "cell_type": "code",
   "execution_count": 10,
   "metadata": {},
   "outputs": [
    {
     "data": {
      "text/plain": [
       "16934"
      ]
     },
     "execution_count": 10,
     "metadata": {},
     "output_type": "execute_result"
    }
   ],
   "source": [
    "len(scipy.stats.iqr(outliers[list(outliers)[1:]], axis=1, nan_policy='omit'))"
   ]
  },
  {
   "cell_type": "code",
   "execution_count": 11,
   "metadata": {},
   "outputs": [
    {
     "data": {
      "text/plain": [
       "-1"
      ]
     },
     "execution_count": 11,
     "metadata": {},
     "output_type": "execute_result"
    }
   ],
   "source": [
    "int(-1)"
   ]
  },
  {
   "cell_type": "code",
   "execution_count": null,
   "metadata": {},
   "outputs": [],
   "source": []
  }
 ],
 "metadata": {
  "kernelspec": {
   "display_name": "Python 2",
   "language": "python",
   "name": "python2"
  },
  "language_info": {
   "codemirror_mode": {
    "name": "ipython",
    "version": 2
   },
   "file_extension": ".py",
   "mimetype": "text/x-python",
   "name": "python",
   "nbconvert_exporter": "python",
   "pygments_lexer": "ipython2",
   "version": "2.7.15"
  }
 },
 "nbformat": 4,
 "nbformat_minor": 2
}
