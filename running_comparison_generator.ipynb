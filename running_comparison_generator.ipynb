{
 "cells": [
  {
   "cell_type": "markdown",
   "metadata": {},
   "source": [
    "#### example_comparisons.txt\n",
    "\n",
    "LabelA    group1namesFile    group2namesFile  \n",
    "LabelB    group1namesFile    group2namesFile  \n",
    "LabelC    group1namesFile    group2namesFile  \n"
   ]
  },
  {
   "cell_type": "code",
   "execution_count": null,
   "metadata": {},
   "outputs": [],
   "source": [
    "%%bash\n",
    "\n",
    "location_of_py_file=\"../../../common_functions/outlier_comparison_generator.py\"\n",
    "location_of_outliers_file=\"../outliers/UCEC_phospho_outliers_${updown}.txt\"\n",
    "experiment_type=\"phospho\"\n",
    "count_column_name=\"counts\"\n",
    "protein_column_name=\"geneSymbol\"\n",
    "fdr_cut_off=0.05\n",
    "genes_to_highlight=\"../../annotations/druggable_list.txt\"\n",
    "\n",
    "cat comparisons.txt | while IFS=$'\\t' read -r -a myArray\n",
    "do\n",
    "label=\"${myArray[0]}\"\n",
    "group1=\"${myArray[1]}\"\n",
    "group2=\"${myArray[2]}\"\n",
    "python2.7  ${location_of_py_file} \\\n",
    "--outliers_table  ${location_of_outliers_file} \\\n",
    "--experiment_type  ${experiment_type} \\\n",
    "--count_column_name  ${count_column_name} \\\n",
    "--protein_column_name ${protein_column_name} \\\n",
    "--fdr_cut_off ${fdr_cut_off} \\\n",
    "--output_prefix ${label} \\\n",
    "--group1_label ${group1} \\\n",
    "--group1_list ${label}_${group1}.txt \\\n",
    "--group2_label ${group2} \\\n",
    "--group2_list ${label}_${group2}.txt \\\n",
    "--genes_to_highlight ${genes_to_highlight} ; done\n"
   ]
  }
 ],
 "metadata": {
  "kernelspec": {
   "display_name": "Python 2",
   "language": "python",
   "name": "python2"
  },
  "language_info": {
   "codemirror_mode": {
    "name": "ipython",
    "version": 2
   },
   "file_extension": ".py",
   "mimetype": "text/x-python",
   "name": "python",
   "nbconvert_exporter": "python",
   "pygments_lexer": "ipython2",
   "version": "2.7.15"
  }
 },
 "nbformat": 4,
 "nbformat_minor": 2
}
